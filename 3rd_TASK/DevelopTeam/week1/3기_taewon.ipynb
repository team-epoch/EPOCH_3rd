{
  "nbformat": 4,
  "nbformat_minor": 0,
  "metadata": {
    "colab": {
      "provenance": []
    },
    "kernelspec": {
      "name": "python3",
      "display_name": "Python 3"
    },
    "language_info": {
      "name": "python"
    }
  },
  "cells": [
    {
      "cell_type": "markdown",
      "source": [
        "# week 1 - 데이터셋 수집"
      ],
      "metadata": {
        "id": "cpPgfWzOb_q2"
      }
    },
    {
      "cell_type": "code",
      "execution_count": 2,
      "metadata": {
        "id": "pPZcWtaAb5DD"
      },
      "outputs": [],
      "source": [
        "import pandas as pd\n",
        "import numpy as np\n",
        "import matplotlib.pyplot as plt\n",
        "import matplotlib as mpl\n",
        "import seaborn as sns\n",
        "import warnings\n",
        "\n",
        "warnings.filterwarnings(action='ignore')\n",
        "%matplotlib inline\n"
      ]
    },
    {
      "cell_type": "markdown",
      "source": [
        "TASK 1. 데이터 출처 / 데이터 불러오기"
      ],
      "metadata": {
        "id": "9cI9pPRnuz4n"
      }
    },
    {
      "cell_type": "code",
      "source": [
        "df = pd.read_csv('.csv')"
      ],
      "metadata": {
        "id": "_uCmwbVQb--g"
      },
      "execution_count": null,
      "outputs": []
    },
    {
      "cell_type": "code",
      "source": [],
      "metadata": {
        "id": "s_OAJjoQwBeJ"
      },
      "execution_count": null,
      "outputs": []
    },
    {
      "cell_type": "markdown",
      "source": [
        "TASK 2. 기초 통계 확인"
      ],
      "metadata": {
        "id": "aYja4s2IvKgy"
      }
    },
    {
      "cell_type": "code",
      "source": [
        "df.info()"
      ],
      "metadata": {
        "id": "caDwJqM7wCz_"
      },
      "execution_count": null,
      "outputs": []
    },
    {
      "cell_type": "code",
      "source": [
        "df.describe()"
      ],
      "metadata": {
        "id": "-UlnOS6b_9li"
      },
      "execution_count": null,
      "outputs": []
    },
    {
      "cell_type": "markdown",
      "source": [
        "TASK 3. 분석 목적/인사이트 설명"
      ],
      "metadata": {
        "id": "SWvbTOPMvgsk"
      }
    },
    {
      "cell_type": "code",
      "source": [],
      "metadata": {
        "id": "j2yG67q-cNHQ"
      },
      "execution_count": null,
      "outputs": []
    }
  ]
}