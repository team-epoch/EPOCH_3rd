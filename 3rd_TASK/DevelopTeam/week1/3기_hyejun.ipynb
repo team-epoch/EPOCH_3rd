{
 "cells": [
  {
   "cell_type": "code",
   "execution_count": 5,
   "id": "b12932c8-c529-409a-8426-3566e378976f",
   "metadata": {},
   "outputs": [],
   "source": [
    "import pandas as pd\n",
    "import numpy as np\n",
    "import matplotlib.pyplot as plt\n",
    "import matplotlib as mpl\n",
    "import seaborn as sns\n",
    "import warnings\n",
    "\n",
    "warnings.filterwarnings(action='ignore')\n",
    "%matplotlib inline"
   ]
  },
  {
   "cell_type": "code",
   "execution_count": 7,
   "id": "4b3bb23a-7c60-45df-87e4-d5ace4a4c05d",
   "metadata": {},
   "outputs": [],
   "source": [
    "#Task 1. 데이터 출처: 문화빅데이터플랫폼(consumer insight)\n",
    "#데이터 불러오기"
   ]
  },
  {
   "cell_type": "code",
   "execution_count": 16,
   "id": "571bb854-94ca-41ab-96a4-3f0546e6206b",
   "metadata": {},
   "outputs": [],
   "source": [
    "df1 = pd.read_csv('2021-01-04 데이터.csv')\n",
    "df2 = pd.read_csv('2025-01-27 데이터.csv')"
   ]
  },
  {
   "cell_type": "code",
   "execution_count": 14,
   "id": "d0653292-3d7c-45c0-ae65-e33471261262",
   "metadata": {},
   "outputs": [],
   "source": [
    "#Task 2. 기초 통계 확인"
   ]
  },
  {
   "cell_type": "code",
   "execution_count": 17,
   "id": "a1dc72f7-78fe-44fe-af02-6d52499c4631",
   "metadata": {},
   "outputs": [
    {
     "name": "stdout",
     "output_type": "stream",
     "text": [
      "<class 'pandas.core.frame.DataFrame'>\n",
      "RangeIndex: 500 entries, 0 to 499\n",
      "Data columns (total 9 columns):\n",
      " #   Column                                Non-Null Count  Dtype \n",
      "---  ------                                --------------  ----- \n",
      " 0   RESPOND_ID                            500 non-null    int64 \n",
      " 1   EXAMIN_BEGIN_DE                       500 non-null    int64 \n",
      " 2   SEXDSTN_FLAG_CD                       500 non-null    object\n",
      " 3   AGRDE_FLAG_NM                         500 non-null    object\n",
      " 4   ANSWRR_OC_AREA_NM                     500 non-null    object\n",
      " 5   HSHLD_INCOME_DGREE_NM                 500 non-null    object\n",
      " 6   ALL_TURSM_TOUR_EXPNDTR_INTEN_VALUE    500 non-null    object\n",
      " 7   DMSTC_TURSM_TOUR_EXPNDTR_INTEN_VALUE  500 non-null    object\n",
      " 8   OVSEA_TURSM_TOUR_EXPNDTR_INTEN_VALUE  500 non-null    object\n",
      "dtypes: int64(2), object(7)\n",
      "memory usage: 35.3+ KB\n"
     ]
    }
   ],
   "source": [
    "df1.info()"
   ]
  },
  {
   "cell_type": "code",
   "execution_count": 18,
   "id": "eb7af896-3b9f-41f8-aa2f-f934250a2b17",
   "metadata": {},
   "outputs": [
    {
     "name": "stdout",
     "output_type": "stream",
     "text": [
      "<class 'pandas.core.frame.DataFrame'>\n",
      "RangeIndex: 500 entries, 0 to 499\n",
      "Data columns (total 9 columns):\n",
      " #   Column                                Non-Null Count  Dtype \n",
      "---  ------                                --------------  ----- \n",
      " 0   RESPOND_ID                            500 non-null    int64 \n",
      " 1   EXAMIN_BEGIN_DE                       500 non-null    int64 \n",
      " 2   SEXDSTN_FLAG_CD                       500 non-null    object\n",
      " 3   AGRDE_FLAG_NM                         500 non-null    object\n",
      " 4   ANSWRR_OC_AREA_NM                     500 non-null    object\n",
      " 5   HSHLD_INCOME_DGREE_NM                 500 non-null    object\n",
      " 6   ALL_TURSM_TOUR_EXPNDTR_INTEN_VALUE    500 non-null    object\n",
      " 7   DMSTC_TURSM_TOUR_EXPNDTR_INTEN_VALUE  500 non-null    object\n",
      " 8   OVSEA_TURSM_TOUR_EXPNDTR_INTEN_VALUE  500 non-null    object\n",
      "dtypes: int64(2), object(7)\n",
      "memory usage: 35.3+ KB\n"
     ]
    }
   ],
   "source": [
    "df2.info()"
   ]
  },
  {
   "cell_type": "code",
   "execution_count": 19,
   "id": "08f529dc-40dc-4564-b1c3-5399281649b8",
   "metadata": {},
   "outputs": [
    {
     "data": {
      "text/html": [
       "<div>\n",
       "<style scoped>\n",
       "    .dataframe tbody tr th:only-of-type {\n",
       "        vertical-align: middle;\n",
       "    }\n",
       "\n",
       "    .dataframe tbody tr th {\n",
       "        vertical-align: top;\n",
       "    }\n",
       "\n",
       "    .dataframe thead th {\n",
       "        text-align: right;\n",
       "    }\n",
       "</style>\n",
       "<table border=\"1\" class=\"dataframe\">\n",
       "  <thead>\n",
       "    <tr style=\"text-align: right;\">\n",
       "      <th></th>\n",
       "      <th>RESPOND_ID</th>\n",
       "      <th>EXAMIN_BEGIN_DE</th>\n",
       "    </tr>\n",
       "  </thead>\n",
       "  <tbody>\n",
       "    <tr>\n",
       "      <th>count</th>\n",
       "      <td>5.000000e+02</td>\n",
       "      <td>500.0</td>\n",
       "    </tr>\n",
       "    <tr>\n",
       "      <th>mean</th>\n",
       "      <td>6.669711e+05</td>\n",
       "      <td>20210104.0</td>\n",
       "    </tr>\n",
       "    <tr>\n",
       "      <th>std</th>\n",
       "      <td>9.589117e+05</td>\n",
       "      <td>0.0</td>\n",
       "    </tr>\n",
       "    <tr>\n",
       "      <th>min</th>\n",
       "      <td>5.290000e+02</td>\n",
       "      <td>20210104.0</td>\n",
       "    </tr>\n",
       "    <tr>\n",
       "      <th>25%</th>\n",
       "      <td>2.156725e+05</td>\n",
       "      <td>20210104.0</td>\n",
       "    </tr>\n",
       "    <tr>\n",
       "      <th>50%</th>\n",
       "      <td>3.571190e+05</td>\n",
       "      <td>20210104.0</td>\n",
       "    </tr>\n",
       "    <tr>\n",
       "      <th>75%</th>\n",
       "      <td>4.109642e+05</td>\n",
       "      <td>20210104.0</td>\n",
       "    </tr>\n",
       "    <tr>\n",
       "      <th>max</th>\n",
       "      <td>3.238573e+06</td>\n",
       "      <td>20210104.0</td>\n",
       "    </tr>\n",
       "  </tbody>\n",
       "</table>\n",
       "</div>"
      ],
      "text/plain": [
       "         RESPOND_ID  EXAMIN_BEGIN_DE\n",
       "count  5.000000e+02            500.0\n",
       "mean   6.669711e+05       20210104.0\n",
       "std    9.589117e+05              0.0\n",
       "min    5.290000e+02       20210104.0\n",
       "25%    2.156725e+05       20210104.0\n",
       "50%    3.571190e+05       20210104.0\n",
       "75%    4.109642e+05       20210104.0\n",
       "max    3.238573e+06       20210104.0"
      ]
     },
     "execution_count": 19,
     "metadata": {},
     "output_type": "execute_result"
    }
   ],
   "source": [
    "df1.describe()"
   ]
  },
  {
   "cell_type": "code",
   "execution_count": 20,
   "id": "e6dc9d88-545e-4292-9f92-43a3270da6bb",
   "metadata": {},
   "outputs": [
    {
     "data": {
      "text/html": [
       "<div>\n",
       "<style scoped>\n",
       "    .dataframe tbody tr th:only-of-type {\n",
       "        vertical-align: middle;\n",
       "    }\n",
       "\n",
       "    .dataframe tbody tr th {\n",
       "        vertical-align: top;\n",
       "    }\n",
       "\n",
       "    .dataframe thead th {\n",
       "        text-align: right;\n",
       "    }\n",
       "</style>\n",
       "<table border=\"1\" class=\"dataframe\">\n",
       "  <thead>\n",
       "    <tr style=\"text-align: right;\">\n",
       "      <th></th>\n",
       "      <th>RESPOND_ID</th>\n",
       "      <th>EXAMIN_BEGIN_DE</th>\n",
       "    </tr>\n",
       "  </thead>\n",
       "  <tbody>\n",
       "    <tr>\n",
       "      <th>count</th>\n",
       "      <td>5.000000e+02</td>\n",
       "      <td>500.0</td>\n",
       "    </tr>\n",
       "    <tr>\n",
       "      <th>mean</th>\n",
       "      <td>4.360384e+07</td>\n",
       "      <td>20250127.0</td>\n",
       "    </tr>\n",
       "    <tr>\n",
       "      <th>std</th>\n",
       "      <td>2.054285e+07</td>\n",
       "      <td>0.0</td>\n",
       "    </tr>\n",
       "    <tr>\n",
       "      <th>min</th>\n",
       "      <td>6.282000e+03</td>\n",
       "      <td>20250127.0</td>\n",
       "    </tr>\n",
       "    <tr>\n",
       "      <th>25%</th>\n",
       "      <td>5.332643e+07</td>\n",
       "      <td>20250127.0</td>\n",
       "    </tr>\n",
       "    <tr>\n",
       "      <th>50%</th>\n",
       "      <td>5.334350e+07</td>\n",
       "      <td>20250127.0</td>\n",
       "    </tr>\n",
       "    <tr>\n",
       "      <th>75%</th>\n",
       "      <td>5.335830e+07</td>\n",
       "      <td>20250127.0</td>\n",
       "    </tr>\n",
       "    <tr>\n",
       "      <th>max</th>\n",
       "      <td>5.337744e+07</td>\n",
       "      <td>20250127.0</td>\n",
       "    </tr>\n",
       "  </tbody>\n",
       "</table>\n",
       "</div>"
      ],
      "text/plain": [
       "         RESPOND_ID  EXAMIN_BEGIN_DE\n",
       "count  5.000000e+02            500.0\n",
       "mean   4.360384e+07       20250127.0\n",
       "std    2.054285e+07              0.0\n",
       "min    6.282000e+03       20250127.0\n",
       "25%    5.332643e+07       20250127.0\n",
       "50%    5.334350e+07       20250127.0\n",
       "75%    5.335830e+07       20250127.0\n",
       "max    5.337744e+07       20250127.0"
      ]
     },
     "execution_count": 20,
     "metadata": {},
     "output_type": "execute_result"
    }
   ],
   "source": [
    "df2.describe()"
   ]
  },
  {
   "cell_type": "code",
   "execution_count": 24,
   "id": "659988e9-f325-4381-9f8f-0e08a1d673e0",
   "metadata": {},
   "outputs": [],
   "source": [
    "#Task 3. \n",
    "#분석 목적: 2025년 1월과 2021년 1월의 나이대별, 지역별 여행비용 지출의향을 각각 분석해 코로나시기와 지금의 추세비교, 코로나시기와 현재 각 시기의 나이대별 비교를 수행하여 1. 코로나가 여행에 미치는 영향 2.코로나시기의 나이대별 여행에 대한 반응 차이를 알아보고자 한다.  "
   ]
  },
  {
   "cell_type": "code",
   "execution_count": 26,
   "id": "0564aca8-a9a0-42ea-804c-a2a7f9933d89",
   "metadata": {},
   "outputs": [],
   "source": [
    "#insight : EXAMIN_BEGIN_DE(조사 시작일)는 2021년 1월 4일(20210104.0)과 2025년 1월 27일(20250127.0)로 동일한 시점의 데이터를 비교하는 데 문제없다. RESPOND_ID의 평균값과 범위 차이가 크다."
   ]
  }
 ],
 "metadata": {
  "kernelspec": {
   "display_name": "Python 3 (ipykernel)",
   "language": "python",
   "name": "python3"
  },
  "language_info": {
   "codemirror_mode": {
    "name": "ipython",
    "version": 3
   },
   "file_extension": ".py",
   "mimetype": "text/x-python",
   "name": "python",
   "nbconvert_exporter": "python",
   "pygments_lexer": "ipython3",
   "version": "3.12.7"
  }
 },
 "nbformat": 4,
 "nbformat_minor": 5
}
